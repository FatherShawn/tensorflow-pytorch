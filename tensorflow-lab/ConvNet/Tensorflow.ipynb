{
 "cells": [
  {
   "cell_type": "markdown",
   "id": "57a8bd8d",
   "metadata": {},
   "source": [
    "# ConvNet Design for a Convolutional Neural Network Implemented in Tensorflow\n",
    "\n",
    "This image classification network design uses a *Convolutional Layer* followed by a *Max Pooling* layer in front of deep learning architecture that you see demonstrated in the Three Layer network here in the lab.  The purpose of the convolutional/pooling layers is to learn a first set of features found in the image and to eleminate pixels that don't add any information so that the deep learning network can focus on the essentials.\n",
    "## Sequential API"
   ]
  },
  {
   "cell_type": "code",
   "execution_count": 3,
   "id": "b016bdc7",
   "metadata": {},
   "outputs": [
    {
     "name": "stdout",
     "output_type": "stream",
     "text": [
      "Model: \"sequential_1\"\n",
      "_________________________________________________________________\n",
      "Layer (type)                 Output Shape              Param #   \n",
      "=================================================================\n",
      "conv2d_1 (Conv2D)            (None, 64, 64, 16)        160       \n",
      "_________________________________________________________________\n",
      "max_pooling2d_1 (MaxPooling2 (None, 32, 32, 16)        0         \n",
      "_________________________________________________________________\n",
      "flatten_1 (Flatten)          (None, 16384)             0         \n",
      "_________________________________________________________________\n",
      "dense_2 (Dense)              (None, 512)               8389120   \n",
      "_________________________________________________________________\n",
      "dense_3 (Dense)              (None, 26)                13338     \n",
      "=================================================================\n",
      "Total params: 8,402,618\n",
      "Trainable params: 8,402,618\n",
      "Non-trainable params: 0\n",
      "_________________________________________________________________\n"
     ]
    }
   ],
   "source": [
    "from tensorflow.keras.models import Sequential\n",
    "from tensorflow.keras.layers import Dense, ReLU, Activation, Conv2D, MaxPooling2D, Flatten\n",
    "\n",
    "sequential_model = Sequential([\n",
    "    Conv2D(16, kernel_size = (3, 3), strides = (2, 2), padding = 'same', input_shape = (128, 128, 1), activation='relu'),\n",
    "    MaxPooling2D(pool_size = (2,2), strides = (2, 2)),\n",
    "    Flatten(),\n",
    "    Dense(512, activation = 'relu'),\n",
    "    Dense(26, activation = 'softmax')\n",
    "])\n",
    "\n",
    "sequential_model.compile(\n",
    "    loss='categorical_crossentropy',\n",
    "    optimizer='adam',\n",
    "    metrics='accuracy'\n",
    ")\n",
    "\n",
    "sequential_model.summary()"
   ]
  },
  {
   "cell_type": "markdown",
   "id": "c360e5aa",
   "metadata": {},
   "source": [
    "## Functional API"
   ]
  },
  {
   "cell_type": "code",
   "execution_count": 4,
   "id": "2b876e96",
   "metadata": {},
   "outputs": [
    {
     "name": "stdout",
     "output_type": "stream",
     "text": [
      "Model: \"model\"\n",
      "_________________________________________________________________\n",
      "Layer (type)                 Output Shape              Param #   \n",
      "=================================================================\n",
      "input_1 (InputLayer)         [(None, 128, 128, 1)]     0         \n",
      "_________________________________________________________________\n",
      "conv2d_2 (Conv2D)            (None, 64, 64, 16)        160       \n",
      "_________________________________________________________________\n",
      "max_pooling2d_2 (MaxPooling2 (None, 32, 32, 16)        0         \n",
      "_________________________________________________________________\n",
      "flatten_2 (Flatten)          (None, 16384)             0         \n",
      "_________________________________________________________________\n",
      "dense_4 (Dense)              (None, 512)               8389120   \n",
      "_________________________________________________________________\n",
      "dense_5 (Dense)              (None, 26)                13338     \n",
      "=================================================================\n",
      "Total params: 8,402,618\n",
      "Trainable params: 8,402,618\n",
      "Non-trainable params: 0\n",
      "_________________________________________________________________\n"
     ]
    }
   ],
   "source": [
    "from tensorflow.keras import Model, Input\n",
    "from tensorflow.keras.layers import Dense, ReLU, Activation, Conv2D, MaxPooling2D, Flatten\n",
    "\n",
    "inputs = Input(shape = (128, 128, 1))\n",
    "layers = Conv2D(16, \n",
    "                kernel_size = (3, 3), \n",
    "                strides = (2, 2), \n",
    "                padding = 'same', \n",
    "                input_shape = (128, 128, 1), \n",
    "                activation='relu')(inputs)\n",
    "layers = MaxPooling2D(pool_size = (2,2), strides = (2, 2))(layers)\n",
    "layers = Flatten()(layers)\n",
    "layers = Dense(512, activation = 'relu')(layers)\n",
    "outputs = Dense(26, activation = 'softmax')(layers)\n",
    "\n",
    "functional_model = Model(inputs, outputs)\n",
    "\n",
    "functional_model.compile(\n",
    "    loss='categorical_crossentropy',\n",
    "    optimizer='adam',\n",
    "    metrics='accuracy'\n",
    ")\n",
    "\n",
    "functional_model.summary()"
   ]
  },
  {
   "cell_type": "code",
   "execution_count": null,
   "id": "c62681e8",
   "metadata": {},
   "outputs": [],
   "source": []
  }
 ],
 "metadata": {
  "kernelspec": {
   "display_name": "tensorflow-lab",
   "language": "python",
   "name": "tensorflow-lab"
  },
  "language_info": {
   "codemirror_mode": {
    "name": "ipython",
    "version": 3
   },
   "file_extension": ".py",
   "mimetype": "text/x-python",
   "name": "python",
   "nbconvert_exporter": "python",
   "pygments_lexer": "ipython3",
   "version": "3.9.4"
  }
 },
 "nbformat": 4,
 "nbformat_minor": 5
}
