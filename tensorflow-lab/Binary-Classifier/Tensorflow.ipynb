{
 "cells": [
  {
   "cell_type": "markdown",
   "id": "89f62430",
   "metadata": {},
   "source": [
    "# Three Layer Binary Classifier in Tensorflow\n",
    "This deep learning network is a binary classifier, it returns a true/false response based on the inputs. It is used to determine of something is, or is not, something.  It is very much like the Three Layer FCCN, except we will apply an activation function to output as well so that the output is confined instead of being any real number."
   ]
  },
  {
   "cell_type": "code",
   "execution_count": 1,
   "id": "db7a61d0",
   "metadata": {},
   "outputs": [
    {
     "name": "stdout",
     "output_type": "stream",
     "text": [
      "INFO:tensorflow:Enabling eager execution\n",
      "INFO:tensorflow:Enabling v2 tensorshape\n",
      "INFO:tensorflow:Enabling resource variables\n",
      "INFO:tensorflow:Enabling tensor equality\n",
      "INFO:tensorflow:Enabling control flow v2\n",
      "Model: \"sequential\"\n",
      "_________________________________________________________________\n",
      "Layer (type)                 Output Shape              Param #   \n",
      "=================================================================\n",
      "dense (Dense)                (None, 10)                140       \n",
      "_________________________________________________________________\n",
      "dense_1 (Dense)              (None, 10)                110       \n",
      "_________________________________________________________________\n",
      "dense_2 (Dense)              (None, 1)                 11        \n",
      "=================================================================\n",
      "Total params: 261\n",
      "Trainable params: 261\n",
      "Non-trainable params: 0\n",
      "_________________________________________________________________\n"
     ]
    }
   ],
   "source": [
    "from tensorflow.keras import Sequential\n",
    "from tensorflow.keras.layers import Dense, ReLU\n",
    "\n",
    "sequential_model = Sequential([\n",
    "    Dense(10, input_shape=(13,), activation='relu'),\n",
    "    Dense(10, activation='relu'),\n",
    "    Dense(1, activation='sigmoid')\n",
    "])\n",
    "\n",
    "sequential_model.compile(\n",
    "    loss='binary_crossentropy',\n",
    "    optimizer='rmsprop',\n",
    "    metrics='accuracy'\n",
    ")\n",
    "\n",
    "sequential_model.summary()"
   ]
  },
  {
   "cell_type": "markdown",
   "id": "99cd9524",
   "metadata": {},
   "source": [
    "The sigmoid function has a limited range from 0 to 1. ![](https://upload.wikimedia.org/wikipedia/commons/thumb/b/b5/SigmoidFunction.png/305px-SigmoidFunction.png) which then easily rounds to 0 or 1. The [binary crossentropy](https://towardsdatascience.com/understanding-binary-cross-entropy-log-loss-a-visual-explanation-a3ac6025181a) loss function computes a error amount that is proportional to the difference between the result and the expected result. Here's the same network constructed via the Functional API"
   ]
  },
  {
   "cell_type": "code",
   "execution_count": 2,
   "id": "c9198e1d",
   "metadata": {},
   "outputs": [
    {
     "name": "stdout",
     "output_type": "stream",
     "text": [
      "Model: \"model_1\"\n",
      "_________________________________________________________________\n",
      "Layer (type)                 Output Shape              Param #   \n",
      "=================================================================\n",
      "input_2 (InputLayer)         [(None, 13)]              0         \n",
      "_________________________________________________________________\n",
      "dense_3 (Dense)              (None, 10)                140       \n",
      "_________________________________________________________________\n",
      "activation_3 (Activation)    (None, 10)                0         \n",
      "_________________________________________________________________\n",
      "dense_4 (Dense)              (None, 10)                110       \n",
      "_________________________________________________________________\n",
      "activation_4 (Activation)    (None, 10)                0         \n",
      "_________________________________________________________________\n",
      "dense_5 (Dense)              (None, 1)                 11        \n",
      "_________________________________________________________________\n",
      "activation_5 (Activation)    (None, 1)                 0         \n",
      "=================================================================\n",
      "Total params: 261\n",
      "Trainable params: 261\n",
      "Non-trainable params: 0\n",
      "_________________________________________________________________\n"
     ]
    }
   ],
   "source": [
    "from tensorflow.keras import Model, Input\n",
    "from tensorflow.keras.layers import Dense, ReLU, Activation\n",
    "\n",
    "inputs = Input((13,))\n",
    "layers = Dense(10)(inputs)\n",
    "layers = Activation('relu')(layers)\n",
    "layers = Dense(10)(layers)\n",
    "layers = Activation('relu')(layers)\n",
    "layers = Dense(1)(layers)\n",
    "output = Activation('sigmoid')(layers)\n",
    "functional_model = Model(inputs, output)\n",
    "functional_model.compile(\n",
    "    loss='binary_crossentropy',\n",
    "    optimizer='rmsprop',\n",
    "    metrics='accuracy'\n",
    ")\n",
    "\n",
    "functional_model.summary()"
   ]
  }
 ],
 "metadata": {
  "kernelspec": {
   "display_name": "tensorflow-lab",
   "language": "python",
   "name": "tensorflow-lab"
  },
  "language_info": {
   "codemirror_mode": {
    "name": "ipython",
    "version": 3
   },
   "file_extension": ".py",
   "mimetype": "text/x-python",
   "name": "python",
   "nbconvert_exporter": "python",
   "pygments_lexer": "ipython3",
   "version": "3.9.4"
  }
 },
 "nbformat": 4,
 "nbformat_minor": 5
}
