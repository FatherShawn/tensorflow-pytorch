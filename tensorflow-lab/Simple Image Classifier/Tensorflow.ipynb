{
 "cells": [
  {
   "cell_type": "markdown",
   "id": "9ed51aac",
   "metadata": {},
   "source": [
    "# Simple Image Classifier in Tensorflow\n",
    "\n",
    "This simple image classifier is an adaptation of the multi-class classifier.  The images are the commonly used MNIST image set of hand written digits.  The 2D image matricies are flattened into 1D matricies for input.\n",
    "## Sequential API"
   ]
  },
  {
   "cell_type": "code",
   "execution_count": 1,
   "id": "1d47c53a",
   "metadata": {},
   "outputs": [
    {
     "name": "stdout",
     "output_type": "stream",
     "text": [
      "INFO:tensorflow:Enabling eager execution\n",
      "INFO:tensorflow:Enabling v2 tensorshape\n",
      "INFO:tensorflow:Enabling resource variables\n",
      "INFO:tensorflow:Enabling tensor equality\n",
      "INFO:tensorflow:Enabling control flow v2\n",
      "Model: \"sequential\"\n",
      "_________________________________________________________________\n",
      "Layer (type)                 Output Shape              Param #   \n",
      "=================================================================\n",
      "flatten (Flatten)            (None, 784)               0         \n",
      "_________________________________________________________________\n",
      "dense (Dense)                (None, 784)               615440    \n",
      "_________________________________________________________________\n",
      "dense_1 (Dense)              (None, 512)               401920    \n",
      "_________________________________________________________________\n",
      "dense_2 (Dense)              (None, 10)                5130      \n",
      "=================================================================\n",
      "Total params: 1,022,490\n",
      "Trainable params: 1,022,490\n",
      "Non-trainable params: 0\n",
      "_________________________________________________________________\n"
     ]
    }
   ],
   "source": [
    "from tensorflow.keras import Sequential\n",
    "from tensorflow.keras.layers import Dense, ReLU, Flatten\n",
    "\n",
    "sequential_model = Sequential([\n",
    "    Flatten(input_shape=(28, 28)),\n",
    "    Dense(784, activation='relu'),\n",
    "    Dense(512, activation='relu'),\n",
    "    Dense(10, activation='softmax')\n",
    "])\n",
    "\n",
    "sequential_model.compile(\n",
    "    loss='categorical_crossentropy',\n",
    "    optimizer='adam',\n",
    "    metrics='accuracy'\n",
    ")\n",
    "\n",
    "sequential_model.summary()"
   ]
  },
  {
   "cell_type": "markdown",
   "id": "a7434948",
   "metadata": {},
   "source": [
    "## Procedural API"
   ]
  },
  {
   "cell_type": "code",
   "execution_count": 2,
   "id": "6143aaa7",
   "metadata": {},
   "outputs": [
    {
     "name": "stdout",
     "output_type": "stream",
     "text": [
      "Model: \"model\"\n",
      "_________________________________________________________________\n",
      "Layer (type)                 Output Shape              Param #   \n",
      "=================================================================\n",
      "input_1 (InputLayer)         [(None, 28, 28)]          0         \n",
      "_________________________________________________________________\n",
      "flatten_1 (Flatten)          (None, 784)               0         \n",
      "_________________________________________________________________\n",
      "dense_3 (Dense)              (None, 784)               615440    \n",
      "_________________________________________________________________\n",
      "activation (Activation)      (None, 784)               0         \n",
      "_________________________________________________________________\n",
      "dense_4 (Dense)              (None, 512)               401920    \n",
      "_________________________________________________________________\n",
      "activation_1 (Activation)    (None, 512)               0         \n",
      "_________________________________________________________________\n",
      "dense_5 (Dense)              (None, 10)                5130      \n",
      "_________________________________________________________________\n",
      "activation_2 (Activation)    (None, 10)                0         \n",
      "=================================================================\n",
      "Total params: 1,022,490\n",
      "Trainable params: 1,022,490\n",
      "Non-trainable params: 0\n",
      "_________________________________________________________________\n"
     ]
    }
   ],
   "source": [
    "from tensorflow.keras import Model, Input\n",
    "from tensorflow.keras.layers import Dense, ReLU, Activation\n",
    "\n",
    "inputs = Input((28, 28))\n",
    "layers = Flatten()(inputs)\n",
    "layers = Dense(784)(layers)\n",
    "layers = Activation('relu')(layers)\n",
    "layers = Dense(512)(layers)\n",
    "layers = Activation('relu')(layers)\n",
    "layers = Dense(10)(layers)\n",
    "output = Activation('softmax')(layers)\n",
    "functional_model = Model(inputs, output)\n",
    "functional_model.compile(\n",
    "    loss='categorical_crossentropy',\n",
    "    optimizer='adam',\n",
    "    metrics='accuracy'\n",
    ")\n",
    "\n",
    "functional_model.summary()"
   ]
  },
  {
   "cell_type": "markdown",
   "id": "7368e91a",
   "metadata": {},
   "source": [
    "These simple networks will be prone to \"overfitting\" during training.  Overfitting is a failure to generalize.  An overfitted network is too closely aligned to the training data and much less accurate with unknown data.  A common solution to prevent overfitting is to use *dropout*, in which a given percentage of nerons do not pass on their learning.  Here are the same networks with dropout.\n",
    "\n",
    "# Sequential API with Dropout"
   ]
  },
  {
   "cell_type": "code",
   "execution_count": 3,
   "id": "76aa5853",
   "metadata": {},
   "outputs": [
    {
     "name": "stdout",
     "output_type": "stream",
     "text": [
      "Model: \"sequential_1\"\n",
      "_________________________________________________________________\n",
      "Layer (type)                 Output Shape              Param #   \n",
      "=================================================================\n",
      "flatten_2 (Flatten)          (None, 784)               0         \n",
      "_________________________________________________________________\n",
      "dense_6 (Dense)              (None, 784)               615440    \n",
      "_________________________________________________________________\n",
      "dropout (Dropout)            (None, 784)               0         \n",
      "_________________________________________________________________\n",
      "dense_7 (Dense)              (None, 512)               401920    \n",
      "_________________________________________________________________\n",
      "dropout_1 (Dropout)          (None, 512)               0         \n",
      "_________________________________________________________________\n",
      "dense_8 (Dense)              (None, 10)                5130      \n",
      "=================================================================\n",
      "Total params: 1,022,490\n",
      "Trainable params: 1,022,490\n",
      "Non-trainable params: 0\n",
      "_________________________________________________________________\n"
     ]
    }
   ],
   "source": [
    "from tensorflow.keras import Sequential\n",
    "from tensorflow.keras.layers import Dense, ReLU, Flatten, Dropout\n",
    "\n",
    "sequential_model = Sequential([\n",
    "    Flatten(input_shape=(28, 28)),\n",
    "    Dense(784, activation='relu'),\n",
    "    Dropout(0.5),\n",
    "    Dense(512, activation='relu'),\n",
    "    Dropout(0.5),\n",
    "    Dense(10, activation='softmax')\n",
    "])\n",
    "\n",
    "sequential_model.compile(\n",
    "    loss='categorical_crossentropy',\n",
    "    optimizer='adam',\n",
    "    metrics='accuracy'\n",
    ")\n",
    "\n",
    "sequential_model.summary()"
   ]
  },
  {
   "cell_type": "markdown",
   "id": "016c5a9a",
   "metadata": {},
   "source": [
    "## Procedural API with Dropout\n",
    "This example illustrates that it does not matter if the dropout is before or after the activation, as dropout sets the value to 0."
   ]
  },
  {
   "cell_type": "code",
   "execution_count": 4,
   "id": "efb4dc0c",
   "metadata": {},
   "outputs": [
    {
     "name": "stdout",
     "output_type": "stream",
     "text": [
      "Model: \"model_1\"\n",
      "_________________________________________________________________\n",
      "Layer (type)                 Output Shape              Param #   \n",
      "=================================================================\n",
      "input_2 (InputLayer)         [(None, 28, 28)]          0         \n",
      "_________________________________________________________________\n",
      "flatten_3 (Flatten)          (None, 784)               0         \n",
      "_________________________________________________________________\n",
      "dense_9 (Dense)              (None, 784)               615440    \n",
      "_________________________________________________________________\n",
      "dropout_2 (Dropout)          (None, 784)               0         \n",
      "_________________________________________________________________\n",
      "activation_3 (Activation)    (None, 784)               0         \n",
      "_________________________________________________________________\n",
      "dense_10 (Dense)             (None, 512)               401920    \n",
      "_________________________________________________________________\n",
      "dropout_3 (Dropout)          (None, 512)               0         \n",
      "_________________________________________________________________\n",
      "activation_4 (Activation)    (None, 512)               0         \n",
      "_________________________________________________________________\n",
      "dense_11 (Dense)             (None, 10)                5130      \n",
      "_________________________________________________________________\n",
      "activation_5 (Activation)    (None, 10)                0         \n",
      "=================================================================\n",
      "Total params: 1,022,490\n",
      "Trainable params: 1,022,490\n",
      "Non-trainable params: 0\n",
      "_________________________________________________________________\n"
     ]
    }
   ],
   "source": [
    "from tensorflow.keras import Model, Input\n",
    "from tensorflow.keras.layers import Dense, ReLU, Activation, Dropout\n",
    "\n",
    "inputs = Input((28, 28))\n",
    "layers = Flatten()(inputs)\n",
    "layers = Dense(784)(layers)\n",
    "layers = Dropout(0.5)(layers)\n",
    "layers = Activation('relu')(layers)\n",
    "layers = Dense(512)(layers)\n",
    "layers = Dropout(0.5)(layers)\n",
    "layers = Activation('relu')(layers)\n",
    "layers = Dense(10)(layers)\n",
    "output = Activation('softmax')(layers)\n",
    "functional_model = Model(inputs, output)\n",
    "functional_model.compile(\n",
    "    loss='categorical_crossentropy',\n",
    "    optimizer='adam',\n",
    "    metrics='accuracy'\n",
    ")\n",
    "\n",
    "functional_model.summary()"
   ]
  },
  {
   "cell_type": "code",
   "execution_count": null,
   "id": "18da271a",
   "metadata": {},
   "outputs": [],
   "source": []
  }
 ],
 "metadata": {
  "kernelspec": {
   "display_name": "tensorflow-lab",
   "language": "python",
   "name": "tensorflow-lab"
  },
  "language_info": {
   "codemirror_mode": {
    "name": "ipython",
    "version": 3
   },
   "file_extension": ".py",
   "mimetype": "text/x-python",
   "name": "python",
   "nbconvert_exporter": "python",
   "pygments_lexer": "ipython3",
   "version": "3.9.4"
  }
 },
 "nbformat": 4,
 "nbformat_minor": 5
}
