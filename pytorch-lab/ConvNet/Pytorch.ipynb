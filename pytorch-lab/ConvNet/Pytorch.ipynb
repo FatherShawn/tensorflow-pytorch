{
 "cells": [
  {
   "cell_type": "markdown",
   "id": "5cec9ec3",
   "metadata": {},
   "source": [
    "# Convolutional Networks for Image Classification using Pytorch\n",
    "The convolutional network architechture uses a convolutional layer paired with a MaxPool layer to roughly discern image features and filter out non-essential pixels. The results are passed to a deep learning network much like the other examples in this laboratory.\n",
    "\n",
    "## Sequential Approach"
   ]
  },
  {
   "cell_type": "code",
   "execution_count": 1,
   "id": "d40a7d88",
   "metadata": {},
   "outputs": [
    {
     "name": "stdout",
     "output_type": "stream",
     "text": [
      "Sequential(\n",
      "  (0): Conv2d(1, 32, kernel_size=(3, 3), stride=(2, 2), padding=(1, 1))\n",
      "  (1): ReLU()\n",
      "  (2): MaxPool2d(kernel_size=2, stride=2, padding=0, dilation=1, ceil_mode=False)\n",
      "  (3): Flatten(start_dim=1, end_dim=-1)\n",
      "  (4): Linear(in_features=16384, out_features=512, bias=True)\n",
      "  (5): ReLU()\n",
      "  (6): Linear(in_features=512, out_features=26, bias=True)\n",
      "  (7): Softmax(dim=None)\n",
      ")\n"
     ]
    }
   ],
   "source": [
    "from torch import nn\n",
    "\n",
    "# This model uses 128 x 128 greyscale images.\n",
    "\n",
    "sequential_model = nn.Sequential(\n",
    "    nn.Conv2d(1, 32, kernel_size=3, stride=2, padding=1),\n",
    "    nn.ReLU(),\n",
    "    nn.MaxPool2d(kernel_size=2, stride=2),\n",
    "    nn.Flatten(),\n",
    "    nn.Linear(16384, 512),\n",
    "    nn.ReLU(),\n",
    "    nn.Linear(512,26),\n",
    "    nn.Softmax()\n",
    ")\n",
    "\n",
    "print(sequential_model)"
   ]
  },
  {
   "cell_type": "markdown",
   "id": "0a69ea7d",
   "metadata": {},
   "source": [
    "## Custom Class"
   ]
  },
  {
   "cell_type": "code",
   "execution_count": 2,
   "id": "9f547a6d",
   "metadata": {},
   "outputs": [
    {
     "name": "stdout",
     "output_type": "stream",
     "text": [
      "ConvNet(\n",
      "  (convLayer): Conv2d(1, 32, kernel_size=(3, 3), stride=(2, 2), padding=(1, 1))\n",
      "  (pool): MaxPool2d(kernel_size=2, stride=2, padding=0, dilation=1, ceil_mode=False)\n",
      "  (hiddenLayer): Linear(in_features=16384, out_features=512, bias=True)\n",
      "  (outputLayer): Linear(in_features=512, out_features=26, bias=True)\n",
      ")\n"
     ]
    }
   ],
   "source": [
    "from torch import nn\n",
    "import torch.nn.functional as activation\n",
    "\n",
    "# This model uses 128 x 128 greyscale images.\n",
    "\n",
    "class ConvNet(nn.Module):\n",
    "    \n",
    "    def __init__(self):\n",
    "        # Call the parent constructor.\n",
    "        super().__init__()\n",
    "        \n",
    "        # Define the layers.\n",
    "        self.convLayer = nn.Conv2d(1, 32, kernel_size=3, stride=2, padding=1)\n",
    "        self.pool = nn.MaxPool2d(kernel_size=2, stride=2)\n",
    "        self.hiddenLayer = nn.Linear(16384, 512)\n",
    "        self.outputLayer = nn.Linear(512,26)\n",
    "        \n",
    "    def forward(self, x):\n",
    "        # This defines a forward pass for this forward feed network.\n",
    "        x = activation.relu(self.convLayer(x))\n",
    "        x = self.pool(x)\n",
    "        # Reshape the data to a single dimension\n",
    "        x = x.view(-1,16384)\n",
    "        x = activation.relu(self.hiddenLayer(x))\n",
    "        x = activation.softmax(self.outputlayer(x))\n",
    "        return x\n",
    "    \n",
    "# Instantiate the model\n",
    "our_model = ConvNet()\n",
    "\n",
    "print(our_model)"
   ]
  },
  {
   "cell_type": "code",
   "execution_count": null,
   "id": "5d89d673",
   "metadata": {},
   "outputs": [],
   "source": []
  }
 ],
 "metadata": {
  "kernelspec": {
   "display_name": "pytorch-lab",
   "language": "python",
   "name": "pytorch-lab"
  },
  "language_info": {
   "codemirror_mode": {
    "name": "ipython",
    "version": 3
   },
   "file_extension": ".py",
   "mimetype": "text/x-python",
   "name": "python",
   "nbconvert_exporter": "python",
   "pygments_lexer": "ipython3",
   "version": "3.9.4"
  }
 },
 "nbformat": 4,
 "nbformat_minor": 5
}
