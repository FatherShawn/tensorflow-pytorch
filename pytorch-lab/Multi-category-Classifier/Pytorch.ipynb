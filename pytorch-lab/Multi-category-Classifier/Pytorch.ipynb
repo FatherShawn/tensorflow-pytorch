{
 "cells": [
  {
   "cell_type": "markdown",
   "id": "fec9b817",
   "metadata": {},
   "source": [
    "# Multi-category Classificaton Network Implemented in Pytorch\n",
    "Here we have a network that predicts membership in one of 5 categories based on 4 data features.  The output activation function is Softmax, which normalizes the predicted probabilities so that they add up to 1.0.  The optimizer is the Adam Optimizer, which is a powerful mathematical model for finding the direction of greatest change in a multi-dimensional surface.\n",
    "\n",
    "## Built with the Sequential Class"
   ]
  },
  {
   "cell_type": "code",
   "execution_count": 1,
   "id": "05ed8134",
   "metadata": {},
   "outputs": [
    {
     "name": "stdout",
     "output_type": "stream",
     "text": [
      "Sequential(\n",
      "  (0): Linear(in_features=10, out_features=10, bias=True)\n",
      "  (1): ReLU()\n",
      "  (2): Linear(in_features=10, out_features=10, bias=True)\n",
      "  (3): ReLU()\n",
      "  (4): Linear(in_features=10, out_features=5, bias=True)\n",
      "  (5): Softmax(dim=None)\n",
      ")\n"
     ]
    }
   ],
   "source": [
    "from torch import nn\n",
    "\n",
    "sequential_model = nn.Sequential(\n",
    "    nn.Linear(10, 10),\n",
    "    nn.ReLU(),\n",
    "    nn.Linear(10, 10),\n",
    "    nn.ReLU(),\n",
    "    nn.Linear(10,5),\n",
    "    nn.Softmax()\n",
    ")\n",
    "print(sequential_model)"
   ]
  },
  {
   "cell_type": "markdown",
   "id": "3dfc452c",
   "metadata": {},
   "source": [
    "## Built with a Custom Class"
   ]
  },
  {
   "cell_type": "code",
   "execution_count": 2,
   "id": "dc3a4b5f",
   "metadata": {},
   "outputs": [
    {
     "name": "stdout",
     "output_type": "stream",
     "text": [
      "MultiClassifier(\n",
      "  (inputLayer): Linear(in_features=10, out_features=10, bias=True)\n",
      "  (hiddenLayer): Linear(in_features=10, out_features=10, bias=True)\n",
      "  (outputLayer): Linear(in_features=10, out_features=5, bias=True)\n",
      ")\n"
     ]
    }
   ],
   "source": [
    "import torch.nn.functional as activation\n",
    "from torch import nn\n",
    "\n",
    "# Define the network using a class.\n",
    "class MultiClassifier(nn.Module):\n",
    "    \n",
    "    def __init__(self):\n",
    "        # Call the parent constructor.\n",
    "        super().__init__()\n",
    "        \n",
    "        # Define the layers.\n",
    "        self.inputLayer = nn.Linear(10, 10)\n",
    "        self.hiddenLayer = nn.Linear(10, 10)\n",
    "        self.outputLayer = nn.Linear(10, 5)\n",
    "        \n",
    "    def forward(self, x):\n",
    "        # This defines a forward pass for this forward feed network.\n",
    "        x = activation.relu(self.inputLayer(x))\n",
    "        x = activation.relu(self.hiddenLayer(x))\n",
    "        x = activation.softmax(self.outputlayer(x))\n",
    "        return x\n",
    "    \n",
    "# Instantiate the model\n",
    "our_model = MultiClassifier()\n",
    "\n",
    "print(our_model)"
   ]
  },
  {
   "cell_type": "markdown",
   "id": "e54276d6",
   "metadata": {},
   "source": [
    "And Pytorch keeps the loss and optimizer functions seperate from the model:"
   ]
  },
  {
   "cell_type": "code",
   "execution_count": null,
   "id": "d9b51889",
   "metadata": {},
   "outputs": [],
   "source": [
    "from torch import optim\n",
    "from torch import nn\n",
    "\n",
    "bce_loss = nn.BCELoss()\n",
    "optimizer = optim.RMSprop(our_model.parameters())"
   ]
  }
 ],
 "metadata": {
  "kernelspec": {
   "display_name": "pytorch-lab",
   "language": "python",
   "name": "pytorch-lab"
  },
  "language_info": {
   "codemirror_mode": {
    "name": "ipython",
    "version": 3
   },
   "file_extension": ".py",
   "mimetype": "text/x-python",
   "name": "python",
   "nbconvert_exporter": "python",
   "pygments_lexer": "ipython3",
   "version": "3.9.4"
  }
 },
 "nbformat": 4,
 "nbformat_minor": 5
}
