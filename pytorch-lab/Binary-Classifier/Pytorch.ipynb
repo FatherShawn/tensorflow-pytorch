{
 "cells": [
  {
   "cell_type": "markdown",
   "id": "77585182",
   "metadata": {},
   "source": [
    "# Binary Classification Network Implemented in Pytorch\n",
    "See the corresponding file in the Tensorflow Lab folder for a full discussion of a Binary Classifier"
   ]
  },
  {
   "cell_type": "code",
   "execution_count": 2,
   "id": "d0ee8088",
   "metadata": {},
   "outputs": [
    {
     "name": "stdout",
     "output_type": "stream",
     "text": [
      "Sequential(\n",
      "  (0): Linear(in_features=10, out_features=10, bias=True)\n",
      "  (1): ReLU()\n",
      "  (2): Linear(in_features=10, out_features=10, bias=True)\n",
      "  (3): ReLU()\n",
      "  (4): Linear(in_features=10, out_features=1, bias=True)\n",
      "  (5): Sigmoid()\n",
      ")\n"
     ]
    }
   ],
   "source": [
    "from torch import nn\n",
    "\n",
    "sequential_model = nn.Sequential(\n",
    "    nn.Linear(10, 10),\n",
    "    nn.ReLU(),\n",
    "    nn.Linear(10,10),\n",
    "    nn.ReLU(),\n",
    "    nn.Linear(10,1),\n",
    "    nn.Sigmoid()\n",
    ")\n",
    "print(sequential_model)"
   ]
  },
  {
   "cell_type": "markdown",
   "id": "78124b31",
   "metadata": {},
   "source": [
    "The equivalent as a class would be:"
   ]
  },
  {
   "cell_type": "code",
   "execution_count": 3,
   "id": "42b74941",
   "metadata": {},
   "outputs": [
    {
     "name": "stdout",
     "output_type": "stream",
     "text": [
      "BinaryClassifier(\n",
      "  (inputLayer): Linear(in_features=10, out_features=10, bias=True)\n",
      "  (hiddenLayer): Linear(in_features=10, out_features=10, bias=True)\n",
      "  (outputLayer): Linear(in_features=10, out_features=1, bias=True)\n",
      ")\n"
     ]
    }
   ],
   "source": [
    "import torch.nn.functional as activation\n",
    "from torch import nn\n",
    "\n",
    "# Define the network using a class.\n",
    "class BinaryClassifier(nn.Module):\n",
    "    \n",
    "    def __init__(self):\n",
    "        # Call the parent constructor.\n",
    "        super().__init__()\n",
    "        \n",
    "        # Define the layers.\n",
    "        self.inputLayer = nn.Linear(10, 10)\n",
    "        self.hiddenLayer = nn.Linear(10,10)\n",
    "        self.outputLayer = nn.Linear(10,1)\n",
    "        \n",
    "    def forward(self, x):\n",
    "        # This defines a forward pass for this forward feed network.\n",
    "        x = activation.relu(self.inputLayer(x))\n",
    "        x = activation.relu(self.hiddenLayer(x))\n",
    "        x = activation.sigmoid(self.outputlayer(x))\n",
    "        return x\n",
    "    \n",
    "# Instantiate the model\n",
    "our_model = BinaryClassifier()\n",
    "\n",
    "print(our_model)"
   ]
  },
  {
   "cell_type": "markdown",
   "id": "070a3d01",
   "metadata": {},
   "source": [
    "And Pytorch keeps the loss and optimizer functions seperate from the model:"
   ]
  },
  {
   "cell_type": "code",
   "execution_count": 5,
   "id": "f43b72e0",
   "metadata": {},
   "outputs": [],
   "source": [
    "from torch import optim\n",
    "from torch import nn\n",
    "\n",
    "bce_loss = nn.BCELoss()\n",
    "optimizer = optim.RMSprop(our_model.parameters())"
   ]
  }
 ],
 "metadata": {
  "kernelspec": {
   "display_name": "pytorch-lab",
   "language": "python",
   "name": "pytorch-lab"
  },
  "language_info": {
   "codemirror_mode": {
    "name": "ipython",
    "version": 3
   },
   "file_extension": ".py",
   "mimetype": "text/x-python",
   "name": "python",
   "nbconvert_exporter": "python",
   "pygments_lexer": "ipython3",
   "version": "3.9.4"
  }
 },
 "nbformat": 4,
 "nbformat_minor": 5
}
